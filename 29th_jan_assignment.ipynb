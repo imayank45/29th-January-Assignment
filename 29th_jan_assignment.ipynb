{
 "cells": [
  {
   "cell_type": "markdown",
   "id": "e780aced-c7f1-4883-b030-ff1f7305399a",
   "metadata": {},
   "source": [
    "29th January Assignment"
   ]
  },
  {
   "cell_type": "markdown",
   "id": "3e4e9964-2b09-497e-aa50-3b4d096641d7",
   "metadata": {},
   "source": [
    "1. Guido van Rossum developed python programming language."
   ]
  },
  {
   "cell_type": "markdown",
   "id": "3b548171-13cc-4492-99e1-d31393622430",
   "metadata": {},
   "source": [
    "2. Python programming supports Object-oriented programming and structured programming."
   ]
  },
  {
   "cell_type": "markdown",
   "id": "2b196d4d-17b7-4bb2-b3ac-f5caac503111",
   "metadata": {},
   "source": [
    "3. Yes, python is case sensitive when dealing with identifiers."
   ]
  },
  {
   "cell_type": "markdown",
   "id": "45c8f692-202c-4103-986c-d036f653a30d",
   "metadata": {},
   "source": [
    "4. The correct extension of python file is '.py'."
   ]
  },
  {
   "cell_type": "markdown",
   "id": "e0f75c6f-e0fa-4220-aa1f-8ce4c9949774",
   "metadata": {},
   "source": [
    "5. Python code is both compiled as well as interpreted. This means when we run python code, it is first compiled and then interpreted line by line."
   ]
  },
  {
   "cell_type": "markdown",
   "id": "dd9e3227-ac69-470d-9e11-efeef2131ee6",
   "metadata": {},
   "source": [
    "6. Function body and class definition are the blocks of code to define in python language."
   ]
  },
  {
   "cell_type": "markdown",
   "id": "16cbc94d-2ca0-468b-a83a-dde63a7f6695",
   "metadata": {},
   "source": [
    "7. '#' character is used to define single-line comment in python."
   ]
  },
  {
   "cell_type": "markdown",
   "id": "01f83afa-5c5e-45f9-9498-b5f20f20441d",
   "metadata": {},
   "source": [
    "8. Following commands are used to cheack the version of python:\n",
    "1] sys. version method\n",
    "2] python_version()\n",
    "3] Python -V command"
   ]
  },
  {
   "cell_type": "markdown",
   "id": "37b40118-4262-44c5-8309-126d1eab9f2c",
   "metadata": {},
   "source": [
    "9. Python supports the creation of anonymous functions at runtime using constructor called lambda."
   ]
  },
  {
   "cell_type": "markdown",
   "id": "df6f2442-fba8-425a-9069-1a46b114fd3f",
   "metadata": {},
   "source": [
    "10. pip stands for 'preferred installer program' for python."
   ]
  },
  {
   "cell_type": "markdown",
   "id": "c513f63c-1fae-467a-98f0-c1484cff16b2",
   "metadata": {},
   "source": [
    "11. dict(), float(), globals(), int(), iter(), len() and max() are few bulit-in functions in python."
   ]
  },
  {
   "cell_type": "markdown",
   "id": "2e2d545a-da3a-469c-90e3-b3acd8640f11",
   "metadata": {},
   "source": [
    "12. 79 characters is the maximum possible length of an identifier in python."
   ]
  },
  {
   "cell_type": "markdown",
   "id": "981a9859-774c-4fc3-95b2-1c51c6f6c1c6",
   "metadata": {},
   "source": [
    "13. Benefits of using python are fianance and trading, computer graphics, data science, web development, security and penetration testing."
   ]
  },
  {
   "cell_type": "markdown",
   "id": "93c9842d-20af-4978-a672-ed62514599b9",
   "metadata": {},
   "source": [
    "14. The memory management in python involves a private heap containing all python objects and data structures. The management of private heap is ensured internally by the python memory manager."
   ]
  },
  {
   "cell_type": "markdown",
   "id": "944b3b86-cb54-4013-aab6-b764f2c59627",
   "metadata": {},
   "source": [
    "15. Installing of python: First dowwnload python from their official website the vesrion you prefer.\n",
    "-   Set path variables: First go to path where you install python and click on bin copy the path above by clicking on it. Then from windows search for 'edit environment variables' click on it, then click on environment variables and in system variables double click on path and click on new option and paste the path that you copied earlier. "
   ]
  },
  {
   "cell_type": "markdown",
   "id": "4e363cb2-00af-4805-8725-381a8a179d78",
   "metadata": {},
   "source": [
    "16. Yes, indentation is required in python in code for readibility."
   ]
  },
  {
   "cell_type": "code",
   "execution_count": null,
   "id": "dd89479f-4c58-47d0-be36-588585c31721",
   "metadata": {},
   "outputs": [],
   "source": []
  }
 ],
 "metadata": {
  "kernelspec": {
   "display_name": "Python 3 (ipykernel)",
   "language": "python",
   "name": "python3"
  },
  "language_info": {
   "codemirror_mode": {
    "name": "ipython",
    "version": 3
   },
   "file_extension": ".py",
   "mimetype": "text/x-python",
   "name": "python",
   "nbconvert_exporter": "python",
   "pygments_lexer": "ipython3",
   "version": "3.10.8"
  }
 },
 "nbformat": 4,
 "nbformat_minor": 5
}
